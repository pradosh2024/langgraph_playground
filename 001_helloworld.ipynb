{
  "nbformat": 4,
  "nbformat_minor": 0,
  "metadata": {
    "colab": {
      "provenance": [],
      "authorship_tag": "ABX9TyPAO3bqhY9alm2yytNXOcWx",
      "include_colab_link": true
    },
    "kernelspec": {
      "name": "python3",
      "display_name": "Python 3"
    },
    "language_info": {
      "name": "python"
    }
  },
  "cells": [
    {
      "cell_type": "markdown",
      "metadata": {
        "id": "view-in-github",
        "colab_type": "text"
      },
      "source": [
        "<a href=\"https://colab.research.google.com/github/pradosh2024/langgraph_playground/blob/main/001_helloworld.ipynb\" target=\"_parent\"><img src=\"https://colab.research.google.com/assets/colab-badge.svg\" alt=\"Open In Colab\"/></a>"
      ]
    },
    {
      "cell_type": "code",
      "source": [
        "%pip install langgraph --quiet"
      ],
      "metadata": {
        "id": "f2dw-0rlFhz2"
      },
      "execution_count": 28,
      "outputs": []
    },
    {
      "cell_type": "code",
      "execution_count": 2,
      "metadata": {
        "id": "g-ZeD3Ds8tYb"
      },
      "outputs": [],
      "source": [
        "#Build a hello world introductory langgraph\n",
        "\n",
        "from typing import  Dict,TypedDict\n",
        "from langgraph.graph import StateGraph\n",
        "\n"
      ]
    },
    {
      "cell_type": "code",
      "source": [
        "# We now create an AgentState - shared data structure that keeps track of information as your application runs.\n",
        "\n",
        "class AgentState(TypedDict):\n",
        "    message: str\n",
        "\n",
        "def greeting_node(state:AgentState) -> AgentState:\n",
        "    \"\"\"Simple node that adds a greeting message to the state\"\"\"\n",
        "    state[\"message\"] = \"Hey \" + state[\"message\"] + \", How is your day going?\"\n",
        "    return state\n"
      ],
      "metadata": {
        "id": "IPpR-4iWFDK8"
      },
      "execution_count": 24,
      "outputs": []
    },
    {
      "cell_type": "code",
      "source": [
        "#Now it is to time compile and create the stategraph\n",
        "\n",
        "graph = StateGraph(AgentState)\n",
        "\n",
        "graph.add_node(\"greeter\",greeting_node)\n",
        "\n",
        "# Link it to start and end\n",
        "graph.set_entry_point(\"greeter\")\n",
        "graph.set_finish_point(\"greeter\")\n",
        "app = graph.compile()"
      ],
      "metadata": {
        "id": "o9ha4ypbphmm"
      },
      "execution_count": 26,
      "outputs": []
    },
    {
      "cell_type": "code",
      "source": [
        "from IPython.display import Image,display\n",
        "display(Image(app.get_graph().draw_mermaid_png()))"
      ],
      "metadata": {
        "colab": {
          "base_uri": "https://localhost:8080/",
          "height": 251
        },
        "id": "jrFdvdlysQsx",
        "outputId": "d16efd9a-53dd-4625-feb4-01ea898eec64"
      },
      "execution_count": 21,
      "outputs": [
        {
          "output_type": "display_data",
          "data": {
            "image/png": "[encoded data removed]",
            "text/plain": [
              "<IPython.core.display.Image object>"
            ]
          },
          "metadata": {}
        }
      ]
    },
    {
      "cell_type": "code",
      "source": [
        "result = app.invoke({\"message\" : \"Ram\"})\n",
        "\n",
        "result[\"message\"]"
      ],
      "metadata": {
        "colab": {
          "base_uri": "https://localhost:8080/",
          "height": 35
        },
        "id": "8OioN8ckwd2J",
        "outputId": "bb60f032-f699-491d-b16c-944f7933d247"
      },
      "execution_count": 27,
      "outputs": [
        {
          "output_type": "execute_result",
          "data": {
            "text/plain": [
              "'Hey Ram, How is your day going?'"
            ],
            "application/vnd.google.colaboratory.intrinsic+json": {
              "type": "string"
            }
          },
          "metadata": {},
          "execution_count": 27
        }
      ]
    },
    {
      "cell_type": "markdown",
      "source": [
        "### Why did you access with dictionary like notation to access message variable?\n",
        "\n",
        "- While you defined AgentState using the class keyword, TypedDict is not a regular Python class in the sense that you would create instances with methods and attribute access using dots. Instead, TypedDict is a special construct from the typing module primarily used for type hinting.\n",
        "\n",
        "- When you define AgentState(TypedDict):, you are essentially telling Python's type checker that any object annotated with the type AgentState should have keys named message (and greeting after your greeting_node function runs) and that the values associated with those keys should be of the specified types (string in this case).\n",
        "\n",
        "- The objects that conform to this AgentState type are just regular Python dictionaries. When you create an instance that matches the AgentState type, you are creating a dictionary that has the structure and types defined by AgentState.\n",
        "\n",
        "#### Think of TypedDict as a blueprint or a schema for a dictionary. It defines what keys and value types are expected, but the actual object created based on this blueprint is a standard dictionary.\n",
        "\n",
        "This is why you access its elements using dictionary-like bracket notation (state[\"message\"]) rather than object-like dot notation (state.message)."
      ],
      "metadata": {
        "id": "_qKQP4xYsezg"
      }
    },
    {
      "cell_type": "markdown",
      "source": [
        "### What does stategraph refers to?\n",
        "\n",
        "The term \"StateGraph\" in LangGraph specifically refers to a type of graph where:\n",
        "\n",
        "- Nodes represent functions or logic: Each node in a StateGraph is typically a function or a piece of logic that performs a specific task. In your example, greeting_node is one such node.\n",
        "\n",
        "- Edges represent transitions: The connections between nodes (the edges of the graph) represent how the process moves from one node to the next. These transitions can be conditional, meaning the next node to execute can depend on the output of the current node.\n",
        "- A shared state is passed between nodes: This is the key distinguishing feature of a StateGraph. There is a single data structure (your AgentState in this case) that is passed from node to node. Each node can read from and write to this shared state.\n",
        "\n",
        "#### So, while a general graph can represent various relationships between entities, a StateGraph in LangGraph is specifically designed to model sequential or conditional processes where a shared state evolves as it passes through different processing steps (nodes).\n",
        "\n",
        "Think of it like a flowchart where each box (node) does something to a piece of data (the state), and the arrows (edges) show where the data goes next."
      ],
      "metadata": {
        "id": "kqZ9NkRar4Z9"
      }
    },
    {
      "cell_type": "markdown",
      "source": [
        "\n",
        "### Can a `StateGraph` handle multiple different state objects, and how would it interact with them?\n",
        "\n",
        "- In LangGraph, a single StateGraph instance is designed to work with one unified state object. This state object, which you define using a TypedDict like your AgentState, acts as the central source of truth that all the nodes in that specific StateGraph interact with.\n",
        "\n",
        "- Think of the state object as a single blackboard that all the different nodes can read from and write to. Each node might only be interested in or modify specific parts of that blackboard, but they all share the same one.\n",
        "\n",
        "- If you need to manage different types of information that don't naturally fit into a single unified state object, you would typically address this in a few ways:\n",
        "\n",
        "- Consolidate into a single TypedDict: If the different pieces of information are related to the same overall process, you can often include them as different keys within your single AgentState TypedDict.\n",
        "Use multiple StateGraph instances: If you have distinct, independent processes that each require their own state, you would create separate StateGraph instances for each process.\n",
        "- Nodes that interact with external systems: Some nodes might interact with external databases, APIs, or other systems that hold different types of data. These nodes would read from the shared StateGraph state to determine what external data to fetch or modify, and they might update the StateGraph state with results from the external system.\n",
        "\n",
        "\n",
        "So, to directly answer your question, a single StateGraph instance works with one type of state object. If you have fundamentally different sets of state you need to manage, you would structure your application using multiple StateGraph instances or design your single state object to encompass all necessary information.\n",
        "\n"
      ],
      "metadata": {
        "id": "JFbs7y17rVce"
      }
    },
    {
      "cell_type": "markdown",
      "source": [
        "## Exercise -1\n",
        "\n",
        "## Create a personalized compliment agent"
      ],
      "metadata": {
        "id": "jVw0O6Bjt3wA"
      }
    },
    {
      "cell_type": "code",
      "source": [
        "# create a function to compliment - this is basically the tool what the node would call\n",
        "\n",
        "def compliment_node(compliment:AgentState) -> AgentState:\n",
        "    \"\"\"Simple node that adds a compliment message to the state\"\"\"\n",
        "    compliment[\"message\"] = compliment[\"message\"] + \", you are doing an amazing job learning langgraph\"\n",
        "    return compliment"
      ],
      "metadata": {
        "id": "7kR4O7Z7ubhd"
      },
      "execution_count": 14,
      "outputs": []
    },
    {
      "cell_type": "code",
      "source": [
        "#create a stategraph\n",
        "\n",
        "compliment_graph = StateGraph(AgentState)\n",
        "\n",
        "compliment_graph.add_node(\"compliment\",compliment_node)\n",
        "\n",
        "compliment_graph.set_entry_point(\"compliment\")\n",
        "compliment_graph.set_finish_point(\"compliment\")\n",
        "compliment_app = compliment_graph.compile()"
      ],
      "metadata": {
        "id": "9wtD3qUut3XB"
      },
      "execution_count": 15,
      "outputs": []
    },
    {
      "cell_type": "code",
      "source": [
        "display(Image(compliment_app.get_graph().draw_mermaid_png()))"
      ],
      "metadata": {
        "colab": {
          "base_uri": "https://localhost:8080/",
          "height": 251
        },
        "id": "5_U1lecuvK__",
        "outputId": "5e16f447-c684-4ee0-fa50-f10584e52417"
      },
      "execution_count": 16,
      "outputs": [
        {
          "output_type": "display_data",
          "data": {
            "image/png": "[encoded data removed]",
            "text/plain": [
              "<IPython.core.display.Image object>"
            ]
          },
          "metadata": {}
        }
      ]
    },
    {
      "cell_type": "code",
      "source": [
        "compliment_result = compliment_app.invoke({\"message\" : \"Ram\"})\n",
        "\n",
        "compliment_result[\"message\"]"
      ],
      "metadata": {
        "colab": {
          "base_uri": "https://localhost:8080/",
          "height": 35
        },
        "id": "htIBkD_Svpb3",
        "outputId": "0e8d7111-45ac-4048-ab92-1705e49d9a04"
      },
      "execution_count": 17,
      "outputs": [
        {
          "output_type": "execute_result",
          "data": {
            "text/plain": [
              "'Ram, you are doing an amazing job learning langgraph'"
            ],
            "application/vnd.google.colaboratory.intrinsic+json": {
              "type": "string"
            }
          },
          "metadata": {},
          "execution_count": 17
        }
      ]
    }
  ]
}