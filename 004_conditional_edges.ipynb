{
  "nbformat": 4,
  "nbformat_minor": 0,
  "metadata": {
    "colab": {
      "provenance": [],
      "authorship_tag": "ABX9TyMgks7uBNWYAlwdNKYRHQJA",
      "include_colab_link": true
    },
    "kernelspec": {
      "name": "python3",
      "display_name": "Python 3"
    },
    "language_info": {
      "name": "python"
    }
  },
  "cells": [
    {
      "cell_type": "markdown",
      "metadata": {
        "id": "view-in-github",
        "colab_type": "text"
      },
      "source": [
        "<a href=\"https://colab.research.google.com/github/pradosh2024/langgraph_playground/blob/main/004_conditional_edges.ipynb\" target=\"_parent\"><img src=\"https://colab.research.google.com/assets/colab-badge.svg\" alt=\"Open In Colab\"/></a>"
      ]
    },
    {
      "cell_type": "markdown",
      "source": [
        "# Exercise for Router and Conditional Edges  🛹\n",
        "\n",
        "### Your task:\n",
        "\n",
        "Make the graph on the right! You will need to **make use of 2 conditional edges!**\n",
        "\n",
        "**Input:** `initial_state = AgentState(number1 = 10, operation = \"-\", number2 = 5, number3 = 7, number4 = 2, operation2 = \"+\", finalNumber = 0, finalNumber2 = 0)`\n",
        "\n",
        "---\n",
        "\n",
        "\n",
        "**Graph Structure:**\n",
        "\n",
        "* `__start__` node\n",
        "* Connects to `router`\n",
        "* `router` has two conditional edges leading to:\n",
        "    * `addition_operation`\n",
        "    * `subtraction_operation`\n",
        "* `addition_operation` connects to `add_node`\n",
        "* `subtraction_operation` connects to `subtract_node`\n",
        "* Both `add_node` and `subtract_node` connect to `router2`\n",
        "* `router2` has two conditional edges leading to:\n",
        "    * `addition_operation2`\n",
        "    * `subtraction_operation2`\n",
        "* `addition_operation2` connects to `add_node2`\n",
        "* `subtraction_operation2` connects to `subtract_node2`"
      ],
      "metadata": {
        "id": "AZZRBAFaSNgr"
      }
    },
    {
      "cell_type": "code",
      "execution_count": 2,
      "metadata": {
        "id": "givVueguSEz-"
      },
      "outputs": [],
      "source": [
        "%pip install langgraph --quiet\n",
        "\n",
        "from typing import  List,TypedDict\n",
        "from langgraph.graph import StateGraph,START, END"
      ]
    },
    {
      "cell_type": "code",
      "source": [
        "class AgentState(TypedDict):\n",
        "    number1: int\n",
        "    operation: str\n",
        "    number2: int\n",
        "    number3: int\n",
        "    number4: int\n",
        "    operation2: str\n",
        "    finalNumber: int\n",
        "    finalNumber2: int"
      ],
      "metadata": {
        "id": "bU3JLx0-T22b"
      },
      "execution_count": 3,
      "outputs": []
    },
    {
      "cell_type": "code",
      "source": [
        "def adder1(state: AgentState) -> AgentState:\n",
        "  state[\"finalNumber\"] = state[\"number1\"] + state[\"number2\"]\n",
        "  return state\n",
        "\n",
        "def subtracter1(state: AgentState) -> AgentState:\n",
        "  state[\"finalNumber\"] = state[\"number1\"] - state[\"number2\"]\n",
        "  return state\n",
        "\n",
        "def adder2(state: AgentState) -> AgentState:\n",
        "  state[\"finalNumber2\"] = state[\"number3\"] + state[\"number4\"]\n",
        "  return state\n",
        "\n",
        "def subtracter2(state: AgentState) -> AgentState:\n",
        "  state[\"finalNumber2\"] = state[\"number3\"] - state[\"number4\"]\n",
        "  return state"
      ],
      "metadata": {
        "id": "gwUAmsBGesXm"
      },
      "execution_count": 17,
      "outputs": []
    },
    {
      "cell_type": "code",
      "source": [
        "def decide_next_node1(state: AgentState) -> str:\n",
        "\n",
        "  \"\"\"This node will select the next node of the first stage in the graph\"\"\"\n",
        "  if state[\"operation\"] ==  \"+\":\n",
        "    return \"add_operation1\"\n",
        "  elif state[\"operation\"] ==  \"-\":\n",
        "    return \"subtract_operation1\"\n",
        "\n",
        "\n",
        "def decide_next_node2(state: AgentState) -> str:\n",
        "\n",
        "  \"\"\"This node will select the next node of the second stage in the graph\"\"\"\n",
        "  if state[\"operation2\"] ==  \"+\":\n",
        "    return \"add_operation2\"\n",
        "  elif state[\"operation2\"] ==  \"-\":\n",
        "    return \"subtract_operation2\""
      ],
      "metadata": {
        "id": "Zv5IMqbag-PA"
      },
      "execution_count": 37,
      "outputs": []
    },
    {
      "cell_type": "code",
      "source": [
        "graph = StateGraph(AgentState)\n",
        "\n",
        "graph.add_node(\"addition_operation1\", adder1)\n",
        "graph.add_node(\"subtraction_operation1\", subtracter1)\n",
        "\n",
        "graph.add_node(\"addition_operation2\", adder2)\n",
        "graph.add_node(\"subtraction_operation2\", subtracter2)\n",
        "\n",
        "graph.add_node(\"router1\", lambda state:state) # passthrough function\n",
        "graph.add_node(\"router2\", lambda state:state) # passthrough function\n",
        "\n",
        "\n",
        "graph.add_edge(START,\"router1\")\n",
        "\n",
        "graph.add_conditional_edges(\"router1\",\n",
        "                         decide_next_node1,\n",
        "\n",
        "                         {\n",
        "                             \"add_operation1\":\"addition_operation1\",\n",
        "                             \"subtract_operation1\":\"subtraction_operation1\"\n",
        "                         })\n",
        "\n",
        "\n",
        "graph.add_edge(\"addition_operation1\", \"router2\")\n",
        "graph.add_edge(\"subtraction_operation1\", \"router2\")\n",
        "\n",
        "graph.add_conditional_edges(\"router2\",\n",
        "                         decide_next_node2,\n",
        "\n",
        "                         {\n",
        "                             \"add_operation2\":\"addition_operation2\",\n",
        "                             \"subtract_operation2\":\"subtraction_operation2\"\n",
        "                         })\n",
        "\n",
        "graph.add_edge(\"addition_operation2\", END)\n",
        "graph.add_edge(\"subtraction_operation2\", END)\n",
        "\n",
        "app = graph.compile()"
      ],
      "metadata": {
        "id": "fY7YvtUshozW"
      },
      "execution_count": 38,
      "outputs": []
    },
    {
      "cell_type": "code",
      "source": [
        "from IPython.display import Image, display\n",
        "display(Image(app.get_graph().draw_mermaid_png()))"
      ],
      "metadata": {
        "colab": {
          "base_uri": "https://localhost:8080/",
          "height": 596
        },
        "id": "Z_wDgufgkMrh",
        "outputId": "a4abab2a-c250-48d8-a144-81cc7ad264cb"
      },
      "execution_count": 39,
      "outputs": [
        {
          "output_type": "display_data",
          "data": {
            "image/png": "[encoded data removed]",
            "text/plain": [
              "<IPython.core.display.Image object>"
            ]
          },
          "metadata": {}
        }
      ]
    },
    {
      "cell_type": "code",
      "source": [
        "state = AgentState(number1 = 10, operation = \"-\", number2 = 5, number3 = 7, number4 = 2, operation2 = \"+\", finalNumber = 0, finalNumber2 = 0)\n",
        "app.invoke(state)"
      ],
      "metadata": {
        "colab": {
          "base_uri": "https://localhost:8080/"
        },
        "id": "b1U1jWIFl-8z",
        "outputId": "56d5b3c1-fc1f-4656-8bb3-169fabb2166b"
      },
      "execution_count": 40,
      "outputs": [
        {
          "output_type": "execute_result",
          "data": {
            "text/plain": [
              "{'number1': 10,\n",
              " 'operation': '-',\n",
              " 'number2': 5,\n",
              " 'number3': 7,\n",
              " 'number4': 2,\n",
              " 'operation2': '+',\n",
              " 'finalNumber': 5,\n",
              " 'finalNumber2': 9}"
            ]
          },
          "metadata": {},
          "execution_count": 40
        }
      ]
    },
    {
      "cell_type": "markdown",
      "source": [
        "### Are you confused with the namings?\n",
        "\n",
        "#### It's a common point of confusion when first working with LangGraph's conditional edges and node naming. It's easy to get lost with strings representing both node names and return values.\n",
        "\n",
        "Let's clarify by renaming some elements and adding extensive comments.\n",
        "\n",
        "Key Concepts Explained:\n",
        "\n",
        "- Node Name (string): This is the unique identifier you give to a node when you add it to the graph using graph.add_node(\"node_name\", some_callable). It's what you use to refer to that specific node in add_edge and add_conditional_edges.\n",
        "\n",
        "- Callable: This is the actual Python function or object that gets executed when the flow reaches a particular node. In your case, adder1, subtracter1, adder2, subtracter2, and lambda state: state are callables.\n",
        "\n",
        "- Conditional Edge Function (e.g., decide_next_node1): This function's job is to look at the current state of the graph and return a string. This string must match one of the keys in the mapping dictionary provided to add_conditional_edges.\n",
        "\n",
        "- Conditional Edge Mapping Dictionary (e.g., { \"key_string\": \"target_node_name\" }):\n",
        "  - Key (string): This is the string that your conditional edge function (decide_next_node1 or decide_next_node2) returns.\n",
        "\n",
        "  - Value (string): This is the name of the actual node in your graph that the execution should transition to if the key matches."
      ],
      "metadata": {
        "id": "X5HxVCV7sv6k"
      }
    },
    {
      "cell_type": "markdown",
      "source": [
        "Analogy:\n",
        "\n",
        "Imagine a train station (router). You give the conductor (decide_next_node function) instructions based on the train's cargo (state). The conductor then looks at a large departure board (conditional edge mapping dictionary). The board lists destinations (keys) and the track number (value, which is the actual node name) to go to for that destination.\n",
        "\n",
        "Here's your code rewritten with clearer naming and detailed comments:"
      ],
      "metadata": {
        "id": "5rnxaZEUtaus"
      }
    },
    {
      "cell_type": "code",
      "source": [
        "from langgraph.graph import StateGraph, END, START\n",
        "from typing import TypedDict, List, Dict, Any\n",
        "\n",
        "# Assume AgentState, adder1, subtracter1, adder2, subtracter2 are defined elsewhere.\n",
        "# Let's define a basic AgentState and placeholder functions for clarity.\n",
        "\n",
        "class AgentState(TypedDict):\n",
        "    \"\"\"\n",
        "    Represents the state of our graph.\n",
        "    This will be passed between nodes.\n",
        "    \"\"\"\n",
        "    number1: int\n",
        "    number2: int\n",
        "    number3: int\n",
        "    number4: int\n",
        "    operation: str  # Operation for the first stage (e.g., \"+\", \"-\")\n",
        "    operation2: str # Operation for the second stage (e.g., \"+\", \"-\")\n",
        "    finalNumber: int # Result of the first operation\n",
        "    finalNumber2: int # Result of the second operation\n",
        "\n",
        "# Placeholder functions for the actual operations\n",
        "def adder1(state: AgentState) -> AgentState:\n",
        "    print(f\"Executing adder1 with {state['number1']} and {state['number2']}\")\n",
        "    state[\"finalNumber\"] = state[\"number1\"] + state[\"number2\"]\n",
        "    return state\n",
        "\n",
        "def subtracter1(state: AgentState) -> AgentState:\n",
        "    print(f\"Executing subtracter1 with {state['number1']} and {state['number2']}\")\n",
        "    state[\"finalNumber\"] = state[\"number1\"] - state[\"number2\"]\n",
        "    return state\n",
        "\n",
        "def adder2(state: AgentState) -> AgentState:\n",
        "    print(f\"Executing adder2 with {state['finalNumber']} and {state['number3']}\")\n",
        "    state[\"finalNumber2\"] = state[\"finalNumber\"] + state[\"number3\"]\n",
        "    return state\n",
        "\n",
        "def subtracter2(state: AgentState) -> AgentState:\n",
        "    print(f\"Executing subtracter2 with {state['finalNumber']} and {state['number3']}\")\n",
        "    state[\"finalNumber2\"] = state[\"finalNumber\"] - state[\"number3\"]\n",
        "    return state\n",
        "\n",
        "# --- Conditional Edge Functions (Decision Makers) ---\n",
        "\n",
        "def decide_first_stage_operation(state: AgentState) -> str:\n",
        "    \"\"\"\n",
        "    This function acts as the 'decision maker' for the first stage.\n",
        "    It inspects the 'operation' field in the state and returns a string\n",
        "    that will match one of the keys in the conditional_edges mapping.\n",
        "    \"\"\"\n",
        "    print(f\"Router 1: Deciding next node based on operation: {state['operation']}\")\n",
        "    if state[\"operation\"] == \"+\":\n",
        "        # The string \"perform_addition_first_stage\" is a KEY in the mapping.\n",
        "        # It DOES NOT need to be the actual node name, but it *must* be in the keys.\n",
        "        return \"perform_addition_first_stage\"\n",
        "    elif state[\"operation\"] == \"-\":\n",
        "        # The string \"perform_subtraction_first_stage\" is a KEY in the mapping.\n",
        "        return \"perform_subtraction_first_stage\"\n",
        "    else:\n",
        "        raise ValueError(\"Invalid operation for first stage\")\n",
        "\n",
        "\n",
        "def decide_second_stage_operation(state: AgentState) -> str:\n",
        "    \"\"\"\n",
        "    This function acts as the 'decision maker' for the second stage.\n",
        "    It inspects the 'operation2' field in the state and returns a string\n",
        "    that will match one of the keys in the conditional_edges mapping.\n",
        "    \"\"\"\n",
        "    print(f\"Router 2: Deciding next node based on operation2: {state['operation2']}\")\n",
        "    if state[\"operation2\"] == \"+\":\n",
        "        # The string \"perform_addition_second_stage\" is a KEY in the mapping.\n",
        "        return \"perform_addition_second_stage\"\n",
        "    elif state[\"operation2\"] == \"-\":\n",
        "        # The string \"perform_subtraction_second_stage\" is a KEY in the mapping.\n",
        "        return \"perform_subtraction_second_stage\"\n",
        "    else:\n",
        "        raise ValueError(\"Invalid operation for second stage\")\n",
        "\n",
        "# --- Graph Definition ---\n",
        "\n",
        "# Initialize the StateGraph with our defined AgentState\n",
        "graph = StateGraph(AgentState)\n",
        "\n",
        "# --- Add Nodes to the Graph ---\n",
        "# Here, we define the unique string name for each node and the callable it executes.\n",
        "\n",
        "# Nodes for the first stage operations\n",
        "graph.add_node(\"add_node_stage1\", adder1)          # Node name: \"add_node_stage1\", Callable: adder1\n",
        "graph.add_node(\"subtract_node_stage1\", subtracter1) # Node name: \"subtract_node_stage1\", Callable: subtracter1\n",
        "\n",
        "# Nodes for the second stage operations\n",
        "graph.add_node(\"add_node_stage2\", adder2)          # Node name: \"add_node_stage2\", Callable: adder2\n",
        "graph.add_node(\"subtract_node_stage2\", subtracter2) # Node name: \"subtract_node_stage2\", Callable: subtracter2\n",
        "\n",
        "# Router nodes: These are often 'passthrough' nodes that just trigger conditional logic.\n",
        "# Their callable simply returns the state as-is, as their main purpose is to route.\n",
        "graph.add_node(\"first_stage_router\", lambda state: state) # Node name: \"first_stage_router\", Callable: passthrough\n",
        "graph.add_node(\"second_stage_router\", lambda state: state) # Node name: \"second_stage_router\", Callable: passthrough\n",
        "\n",
        "\n",
        "# --- Define Edges (Transitions) Between Nodes ---\n",
        "\n",
        "# 1. Initial transition: Start of the graph leads to the first router.\n",
        "graph.add_edge(START, \"first_stage_router\")\n",
        "\n",
        "# 2. Conditional edges from the first router:\n",
        "# The 'first_stage_router' node will call 'decide_first_stage_operation'.\n",
        "# The string returned by 'decide_first_stage_operation' will be looked up as a KEY\n",
        "# in the dictionary provided as the third argument.\n",
        "# The VALUE associated with that key is the name of the NEXT NODE to execute.\n",
        "graph.add_conditional_edges(\n",
        "    \"first_stage_router\",           # From this node (the router)\n",
        "    decide_first_stage_operation,   # Use this function to decide the next path\n",
        "    {                               # Map the return value of the function to an actual node name:\n",
        "        \"perform_addition_first_stage\": \"add_node_stage1\",      # If function returns \"perform_addition_first_stage\", go to \"add_node_stage1\"\n",
        "        \"perform_subtraction_first_stage\": \"subtract_node_stage1\" # If function returns \"perform_subtraction_first_stage\", go to \"subtract_node_stage1\"\n",
        "    }\n",
        ")\n",
        "\n",
        "# 3. Edges from the first stage operation nodes to the second router:\n",
        "# After either addition or subtraction in the first stage, transition to the second router.\n",
        "graph.add_edge(\"add_node_stage1\", \"second_stage_router\")\n",
        "graph.add_edge(\"subtract_node_stage1\", \"second_stage_router\")\n",
        "\n",
        "\n",
        "# 4. Conditional edges from the second router:\n",
        "# Similar to the first router, but for the second stage of operations.\n",
        "graph.add_conditional_edges(\n",
        "    \"second_stage_router\",          # From this node (the second router)\n",
        "    decide_second_stage_operation,  # Use this function to decide the next path\n",
        "    {                               # Map the return value of the function to an actual node name:\n",
        "        \"perform_addition_second_stage\": \"add_node_stage2\",       # If function returns \"perform_addition_second_stage\", go to \"add_node_stage2\"\n",
        "        \"perform_subtraction_second_stage\": \"subtract_node_stage2\" # If function returns \"perform_subtraction_second_stage\", go to \"subtract_node_stage2\"\n",
        "    }\n",
        ")\n",
        "\n",
        "# 5. Final edges to the END of the graph:\n",
        "# After the second stage operations, the graph concludes.\n",
        "graph.add_edge(\"add_node_stage2\", END)\n",
        "graph.add_edge(\"subtract_node_stage2\", END)\n",
        "\n",
        "# Compile the graph into an executable application\n",
        "app = graph.compile()\n",
        "\n",
        "# --- Example Usage ---\n",
        "\n",
        "# Test Case 1: First operation is subtraction, second is addition\n",
        "initial_state_1 = AgentState(\n",
        "    number1=10, operation=\"-\", number2=5,\n",
        "    number3=7, number4=2, operation2=\"+\",\n",
        "    finalNumber=0, finalNumber2=0\n",
        ")\n",
        "print(\"\\n--- Running Test Case 1 ---\")\n",
        "result_1 = app.invoke(initial_state_1)\n",
        "print(f\"Final state for Test Case 1: {result_1}\")\n",
        "# Expected: (10 - 5) + 7 = 5 + 7 = 12\n",
        "\n",
        "# Test Case 2: First operation is addition, second is subtraction\n",
        "initial_state_2 = AgentState(\n",
        "    number1=10, operation=\"+\", number2=5,\n",
        "    number3=7, number4=2, operation2=\"-\",\n",
        "    finalNumber=0, finalNumber2=0\n",
        ")\n",
        "print(\"\\n--- Running Test Case 2 ---\")\n",
        "result_2 = app.invoke(initial_state_2)\n",
        "print(f\"Final state for Test Case 2: {result_2}\")\n",
        "# Expected: (10 + 5) - 7 = 15 - 7 = 8"
      ],
      "metadata": {
        "id": "ExXBagZDtaAW"
      },
      "execution_count": null,
      "outputs": []
    }
  ]
}