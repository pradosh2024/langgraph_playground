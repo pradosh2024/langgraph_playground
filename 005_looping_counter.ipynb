{
  "nbformat": 4,
  "nbformat_minor": 0,
  "metadata": {
    "colab": {
      "provenance": [],
      "authorship_tag": "ABX9TyOfbTh7mwD+VdPZpZbnDNKd",
      "include_colab_link": true
    },
    "kernelspec": {
      "name": "python3",
      "display_name": "Python 3"
    },
    "language_info": {
      "name": "python"
    }
  },
  "cells": [
    {
      "cell_type": "markdown",
      "metadata": {
        "id": "view-in-github",
        "colab_type": "text"
      },
      "source": [
        "<a href=\"https://colab.research.google.com/github/pradosh2024/langgraph_playground/blob/main/005_looping_counter.ipynb\" target=\"_parent\"><img src=\"https://colab.research.google.com/assets/colab-badge.svg\" alt=\"Open In Colab\"/></a>"
      ]
    },
    {
      "cell_type": "code",
      "execution_count": 3,
      "metadata": {
        "id": "TZyKaJC3MNi0"
      },
      "outputs": [],
      "source": [
        "%pip install langgraph --quiet\n",
        "\n",
        "from typing import  List,TypedDict\n",
        "import random\n",
        "from langgraph.graph import StateGraph,START, END"
      ]
    },
    {
      "cell_type": "code",
      "source": [
        "class AgentState(TypedDict):\n",
        "  name : str\n",
        "  number : List[int]\n",
        "  counter : int\n",
        "\n"
      ],
      "metadata": {
        "id": "BPGOciFWMXI8"
      },
      "execution_count": 4,
      "outputs": []
    },
    {
      "cell_type": "code",
      "source": [
        "def greeting_node(state: AgentState) -> AgentState:\n",
        "  state[\"name\"] = \"Hi\" + state[\"name\"]\n",
        "  state[\"counter\"] = 0\n",
        "  return state\n",
        "\n",
        "def random_node(state: AgentState) -> AgentState:\n",
        "  state[\"number\"].append(random.randint(0,10))\n",
        "  state[\"counter\"] += 1\n",
        "  return state\n",
        "\n",
        "def should_continue(state: AgentState) -> AgentState:\n",
        "  if state[\"counter\"] <5:\n",
        "    print(\"Entering Loop\" , state[\"counter\"])\n",
        "    return \"loop\"\n",
        "  else:\n",
        "    return \"Exit\"\n",
        "\n",
        "\n"
      ],
      "metadata": {
        "id": "UlNzw2bGM5kn"
      },
      "execution_count": 5,
      "outputs": []
    },
    {
      "cell_type": "code",
      "source": [
        "graph = StateGraph(AgentState)\n",
        "\n",
        "graph.add_node(\"greeting\", greeting_node)\n",
        "graph.add_node(\"random\", random_node)\n",
        "graph.add_edge(\"greeting\", \"random\")\n",
        "\n",
        "graph.add_conditional_edges(\n",
        "    \"random\",\n",
        "    should_continue,\n",
        "    {\n",
        "        \"loop\" : \"random\",\n",
        "        \"Exit\" : END\n",
        "    }\n",
        "\n",
        ")\n",
        "\n",
        "graph.set_entry_point(\"greeting\")\n",
        "app = graph.compile()\n"
      ],
      "metadata": {
        "id": "84nw1FSVN0Mg"
      },
      "execution_count": 8,
      "outputs": []
    },
    {
      "cell_type": "code",
      "source": [
        "from IPython.display import Image, display\n",
        "display(Image(app.get_graph().draw_mermaid_png()))"
      ],
      "metadata": {
        "colab": {
          "base_uri": "https://localhost:8080/",
          "height": 448
        },
        "id": "jMz1bXj4Orhg",
        "outputId": "d6a65e9c-bf15-45cc-c5d3-d0769efff1d2"
      },
      "execution_count": 9,
      "outputs": [
        {
          "output_type": "display_data",
          "data": {
            "image/png": "[encoded data removed]",
            "text/plain": [
              "<IPython.core.display.Image object>"
            ]
          },
          "metadata": {}
        }
      ]
    },
    {
      "cell_type": "code",
      "source": [
        "app.invoke({\"name\":\"Vaibhav\", \"number\":[], \"counter\":-100})"
      ],
      "metadata": {
        "colab": {
          "base_uri": "https://localhost:8080/"
        },
        "id": "TGBHQjeKOzmJ",
        "outputId": "4869a3cb-428c-4d24-f472-ce99f60f4e1a"
      },
      "execution_count": 10,
      "outputs": [
        {
          "output_type": "stream",
          "name": "stdout",
          "text": [
            "Entering Loop 1\n",
            "Entering Loop 2\n",
            "Entering Loop 3\n",
            "Entering Loop 4\n"
          ]
        },
        {
          "output_type": "execute_result",
          "data": {
            "text/plain": [
              "{'name': 'HiVaibhav', 'number': [8, 2, 8, 5, 3], 'counter': 5}"
            ]
          },
          "metadata": {},
          "execution_count": 10
        }
      ]
    }
  ]
}